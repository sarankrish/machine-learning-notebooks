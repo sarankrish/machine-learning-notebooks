{
 "cells": [
  {
   "cell_type": "markdown",
   "metadata": {},
   "source": [
    "# 2. Whats Cooking"
   ]
  },
  {
   "cell_type": "markdown",
   "metadata": {},
   "source": [
    "## 2.1. Load training and test data"
   ]
  },
  {
   "cell_type": "code",
   "execution_count": 4,
   "metadata": {
    "collapsed": true
   },
   "outputs": [],
   "source": [
    "## Download nltk if you don't have it installed\n",
    "# import nltk\n",
    "# nltk.download()"
   ]
  },
  {
   "cell_type": "code",
   "execution_count": 5,
   "metadata": {
    "collapsed": true
   },
   "outputs": [],
   "source": [
    "import pandas as pd\n",
    "import numpy as np\n",
    "from nltk.stem.wordnet import WordNetLemmatizer\n",
    "from sklearn.feature_extraction.text import CountVectorizer\n",
    "from sklearn.preprocessing import LabelEncoder\n",
    "from sklearn.model_selection import cross_val_score\n",
    "from sklearn.linear_model import LogisticRegression\n",
    "from sklearn.naive_bayes import GaussianNB, BernoulliNB\n",
    "\n",
    "train_dishes = pd.read_json('./train.json')\n",
    "test_dishes = pd.read_json('./test.json')"
   ]
  },
  {
   "cell_type": "markdown",
   "metadata": {},
   "source": [
    "## 2.2 Clean the data"
   ]
  },
  {
   "cell_type": "code",
   "execution_count": 6,
   "metadata": {},
   "outputs": [
    {
     "name": "stdout",
     "output_type": "stream",
     "text": [
      "Number of samples:  39774\n",
      "Categories of Cuisines:  20\n"
     ]
    }
   ],
   "source": [
    "def wordTokenizer(text):\n",
    "    return text.split(\",\")\n",
    "\n",
    "def clean_data(ingredients):\n",
    "    lmtzr = WordNetLemmatizer()\n",
    "    def split_word(strOfWords):\n",
    "        toRemove = ['oz','g','lb','n','s']\n",
    "        tempWords  = []\n",
    "        for word in strOfWords.split():\n",
    "            word = \"\".join(x for x in word if x.isalpha())\n",
    "            word = \"\".join(lmtzr.lemmatize(word))\n",
    "            if word.lower() not in toRemove:\n",
    "                 tempWords.append(word)\n",
    "        return \" \".join(tempWords)\n",
    "    return [[split_word(x) for x in y] for y in ingredients]\n",
    "\n",
    "print(\"Number of samples: \", train_dishes[\"cuisine\"].shape[0])\n",
    "print(\"Categories of Cuisines: \", train_dishes[\"cuisine\"].unique().size)\n",
    "train_dishes[\"total_ingredients_no_clean\"] = train_dishes[\"ingredients\"].map(\",\".join)\n",
    "cv_no_clean = CountVectorizer(tokenizer=wordTokenizer)\n",
    "X_no_clean = cv_no_clean.fit_transform(train_dishes[\"total_ingredients_no_clean\"].values)\n",
    "\n",
    "# Clean the data\n",
    "train_dishes[\"ingredients\"]= clean_data(train_dishes[\"ingredients\"])\n",
    "train_dishes[\"total_ingredients\"] = train_dishes[\"ingredients\"].map(\",\".join)\n",
    "train_dishes[\"total_ingredients\"] = train_dishes[\"total_ingredients\"].str.strip()"
   ]
  },
  {
   "cell_type": "markdown",
   "metadata": {},
   "source": [
    "## 2.3 Generate X "
   ]
  },
  {
   "cell_type": "code",
   "execution_count": 7,
   "metadata": {},
   "outputs": [
    {
     "name": "stdout",
     "output_type": "stream",
     "text": [
      "Unique ingredients after data cleaning:  6691\n"
     ]
    }
   ],
   "source": [
    "#Use count vectorizer to create X = n*d where n = number of samples, d=dishes. \n",
    "cv = CountVectorizer(stop_words=\"english\",lowercase=True,tokenizer=wordTokenizer,token_pattern=\"[A-Za-z]*\",strip_accents='ascii',vocabulary=None)\n",
    "X = cv.fit_transform(train_dishes[\"total_ingredients\"].values)\n",
    "print(\"Unique ingredients after data cleaning: \", X.shape[1])"
   ]
  },
  {
   "cell_type": "markdown",
   "metadata": {},
   "source": [
    "## 2.4 Naive Bayes Classifier using Gaussian and Bernoulli"
   ]
  },
  {
   "cell_type": "code",
   "execution_count": 8,
   "metadata": {},
   "outputs": [
    {
     "name": "stdout",
     "output_type": "stream",
     "text": [
      "GaussianNB average accuracy :  0.379720131093\n",
      "BernoulliNB average accuracy :  0.683939638856\n"
     ]
    }
   ],
   "source": [
    "cuisineEncoder = LabelEncoder()\n",
    "y = cuisineEncoder.fit_transform(train_dishes.cuisine)\n",
    "gau = cross_val_score(GaussianNB(), X.toarray(), y,cv=3)\n",
    "ber = cross_val_score(BernoulliNB(), X, y,cv=3)\n",
    "print(\"GaussianNB average accuracy : \",gau.mean())\n",
    "print(\"BernoulliNB average accuracy : \",ber.mean())\n"
   ]
  },
  {
   "cell_type": "markdown",
   "metadata": {},
   "source": [
    "## 2.6 Logistic Regression"
   ]
  },
  {
   "cell_type": "code",
   "execution_count": 9,
   "metadata": {},
   "outputs": [
    {
     "name": "stdout",
     "output_type": "stream",
     "text": [
      "Logisitic regression average accuracy :  0.775607791516\n"
     ]
    }
   ],
   "source": [
    "log = cross_val_score(LogisticRegression(), X, y,cv=3)\n",
    "print(\"Logisitic regression average accuracy : \",log.mean())"
   ]
  },
  {
   "cell_type": "markdown",
   "metadata": {},
   "source": [
    "## 2.7 Logistic Regression On Test Data"
   ]
  },
  {
   "cell_type": "code",
   "execution_count": 10,
   "metadata": {},
   "outputs": [
    {
     "name": "stdout",
     "output_type": "stream",
     "text": [
      "Done\n"
     ]
    }
   ],
   "source": [
    "# clean the test data\n",
    "test_dishes[\"ingredients\"]= clean_data(test_dishes[\"ingredients\"])\n",
    "test_dishes[\"total_ingredients\"] = test_dishes[\"ingredients\"].map(\";\".join)\n",
    "test_dishes[\"total_ingredients\"] = test_dishes[\"total_ingredients\"].str.strip()\n",
    "\n",
    "# Generate X_test using the vocabulary of unique ingredients in X using CountVectorizer\n",
    "newVec = CountVectorizer(stop_words=\"english\",lowercase=True,tokenizer=wordTokenizer,token_pattern=\"[A-Za-z]*\",strip_accents='ascii',vocabulary=cv.vocabulary_)\n",
    "X_test = newVec.fit_transform(test_dishes[\"total_ingredients\"].values)\n",
    "\n",
    "#Perform Logistis Regression\n",
    "logReg = LogisticRegression()\n",
    "logReg.fit(X,y)\n",
    "y_test = logReg.predict(X_test)\n",
    "\n",
    "#Change encoding back from numbers to labels using cuisineEncoder\n",
    "final_y_cuisines = list(cuisineEncoder.inverse_transform(y_test))\n",
    "solution = pd.DataFrame({'cuisine':np.array(final_y_cuisines)}, index=test_dishes.id)\n",
    "\n",
    "#Create a csv file for submission to kaggle\n",
    "solution.to_csv(\"./cooking_submission.csv\", sep=',')\n",
    "print(\"Done\")"
   ]
  },
  {
   "cell_type": "code",
   "execution_count": null,
   "metadata": {
    "collapsed": true
   },
   "outputs": [],
   "source": []
  }
 ],
 "metadata": {
  "kernelspec": {
   "display_name": "Python 3",
   "language": "python",
   "name": "python3"
  },
  "language_info": {
   "codemirror_mode": {
    "name": "ipython",
    "version": 3
   },
   "file_extension": ".py",
   "mimetype": "text/x-python",
   "name": "python",
   "nbconvert_exporter": "python",
   "pygments_lexer": "ipython3",
   "version": "3.6.1"
  }
 },
 "nbformat": 4,
 "nbformat_minor": 2
}
