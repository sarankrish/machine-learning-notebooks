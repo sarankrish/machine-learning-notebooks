{
 "cells": [
  {
   "cell_type": "markdown",
   "metadata": {},
   "source": [
    "## Download the file"
   ]
  },
  {
   "cell_type": "code",
   "execution_count": 1,
   "metadata": {
    "collapsed": true
   },
   "outputs": [],
   "source": [
    "import numpy as np\n",
    "import pandas as pd\n",
    "articlesScience = np.load(\"science2k-doc-word.npy\")\n",
    "wordDoc = np.load(\"science2k-word-doc.npy\")\n",
    "vocabulary = pd.read_csv('science2k-vocab.txt', sep=\" \", header=None)\n",
    "titles = pd.read_csv('science2k-titles.txt', sep=\" \", header=None)\n"
   ]
  },
  {
   "cell_type": "markdown",
   "metadata": {},
   "source": [
    "## a. Cluster documents with different values of k without PCA"
   ]
  },
  {
   "cell_type": "code",
   "execution_count": 14,
   "metadata": {},
   "outputs": [
    {
     "name": "stdout",
     "output_type": "stream",
     "text": [
      "k =  1 :  Counter({0: 1373})\n",
      "k =  2 :  Counter({1: 976, 0: 397})\n",
      "k =  3 :  Counter({2: 565, 1: 426, 0: 382})\n",
      "k =  4 :  Counter({2: 562, 0: 436, 3: 335, 1: 40})\n",
      "k =  5 :  Counter({4: 498, 0: 349, 2: 316, 3: 142, 1: 68})\n",
      "k =  6 :  Counter({2: 470, 5: 259, 0: 219, 1: 205, 4: 148, 3: 72})\n",
      "k =  7 :  Counter({2: 551, 3: 329, 5: 309, 4: 144, 0: 31, 6: 6, 1: 3})\n",
      "k =  8 :  Counter({6: 383, 4: 317, 5: 203, 2: 150, 7: 143, 3: 143, 0: 31, 1: 3})\n",
      "k =  9 :  Counter({1: 479, 5: 367, 3: 193, 6: 160, 4: 95, 2: 36, 0: 33, 7: 9, 8: 1})\n",
      "k =  10 :  Counter({3: 472, 4: 265, 8: 230, 6: 115, 5: 93, 0: 89, 1: 75, 2: 25, 7: 8, 9: 1})\n",
      "k =  11 :  Counter({4: 450, 3: 214, 8: 172, 10: 157, 1: 133, 9: 122, 6: 69, 2: 34, 5: 16, 7: 5, 0: 1})\n",
      "k =  12 :  Counter({3: 429, 10: 250, 6: 200, 2: 168, 11: 128, 1: 62, 5: 50, 0: 37, 9: 26, 8: 11, 4: 11, 7: 1})\n",
      "k =  13 :  Counter({12: 275, 1: 210, 7: 210, 9: 202, 8: 133, 11: 121, 5: 99, 0: 85, 6: 30, 10: 5, 2: 1, 3: 1, 4: 1})\n",
      "k =  14 :  Counter({4: 304, 6: 248, 8: 151, 13: 137, 10: 133, 3: 131, 5: 94, 7: 83, 1: 46, 11: 37, 2: 6, 9: 1, 0: 1, 12: 1})\n",
      "k =  15 :  Counter({11: 289, 6: 215, 5: 156, 4: 156, 12: 149, 9: 120, 8: 84, 14: 67, 10: 43, 13: 39, 2: 23, 0: 14, 7: 10, 1: 5, 3: 3})\n",
      "k =  16 :  Counter({4: 470, 9: 277, 8: 148, 11: 137, 2: 95, 3: 73, 6: 56, 7: 46, 14: 31, 1: 17, 13: 14, 5: 5, 10: 1, 15: 1, 12: 1, 0: 1})\n",
      "k =  17 :  Counter({10: 356, 12: 236, 5: 199, 15: 152, 3: 82, 13: 80, 0: 74, 1: 48, 8: 38, 6: 36, 2: 33, 14: 29, 16: 4, 4: 3, 9: 1, 7: 1, 11: 1})\n",
      "k =  18 :  Counter({13: 283, 12: 201, 1: 197, 11: 177, 3: 158, 14: 131, 4: 112, 5: 49, 0: 34, 6: 21, 7: 3, 9: 1, 10: 1, 15: 1, 8: 1, 16: 1, 17: 1, 2: 1})\n",
      "k =  19 :  Counter({12: 444, 9: 208, 3: 163, 17: 118, 11: 92, 10: 88, 6: 63, 16: 58, 8: 53, 14: 51, 13: 13, 1: 10, 7: 5, 4: 2, 5: 1, 0: 1, 2: 1, 15: 1, 18: 1})\n",
      "k =  20 :  Counter({10: 262, 13: 214, 3: 167, 11: 166, 0: 151, 18: 125, 8: 110, 4: 57, 15: 40, 7: 32, 6: 21, 16: 15, 1: 6, 2: 1, 12: 1, 19: 1, 9: 1, 14: 1, 17: 1, 5: 1})\n"
     ]
    },
    {
     "data": {
      "image/png": "[encoded data removed]",
      "text/plain": [
       "<matplotlib.figure.Figure at 0x1d0b7130208>"
      ]
     },
     "metadata": {},
     "output_type": "display_data"
    }
   ],
   "source": [
    "from sklearn.cluster import KMeans\n",
    "from sklearn import metrics\n",
    "from scipy.spatial.distance import cdist\n",
    "from collections import Counter\n",
    "import matplotlib.pyplot as plt\n",
    "\n",
    "X = articlesScience\n",
    "distortions = []\n",
    "for i in range(1,21):\n",
    "    kmeans = KMeans(n_clusters=i,max_iter=10, n_init=10, init=\"k-means++\").fit(X)\n",
    "    centroids = kmeans.cluster_centers_\n",
    "    print(\"k = \", i,\": \", Counter(kmeans.labels_))\n",
    "    distortions.append(sum(np.min(cdist(X, centroids, 'euclidean'), axis=1)) / X.shape[0])\n",
    " \n",
    "#Plot the elbow\n",
    "plt.plot(range(1,21), distortions, 'bx-')\n",
    "plt.xlabel('k')\n",
    "plt.ylabel('Distortion')\n",
    "plt.title('The Elbow Method showing the optimal k')\n",
    "plt.show()"
   ]
  },
  {
   "cell_type": "markdown",
   "metadata": {},
   "source": [
    "## a. Cluster documents with different values of k with PCA"
   ]
  },
  {
   "cell_type": "code",
   "execution_count": 15,
   "metadata": {},
   "outputs": [
    {
     "name": "stdout",
     "output_type": "stream",
     "text": [
      "k =  1 :  Counter({0: 1373})\n",
      "k =  2 :  Counter({1: 968, 0: 405})\n",
      "k =  3 :  Counter({0: 576, 2: 415, 1: 382})\n",
      "k =  4 :  Counter({2: 580, 0: 364, 1: 254, 3: 175})\n",
      "k =  5 :  Counter({4: 493, 1: 353, 3: 236, 0: 174, 2: 117})\n",
      "k =  6 :  Counter({2: 497, 1: 303, 4: 228, 0: 165, 3: 105, 5: 75})\n",
      "k =  7 :  Counter({3: 326, 1: 280, 2: 255, 5: 190, 4: 152, 0: 96, 6: 74})\n",
      "k =  8 :  Counter({0: 345, 5: 236, 3: 192, 2: 169, 1: 141, 6: 129, 4: 97, 7: 64})\n",
      "k =  9 :  Counter({8: 327, 2: 180, 7: 167, 4: 166, 5: 131, 0: 123, 1: 119, 6: 93, 3: 67})\n",
      "k =  10 :  Counter({2: 337, 3: 178, 5: 149, 7: 135, 9: 133, 1: 122, 6: 97, 0: 90, 4: 70, 8: 62})\n",
      "k =  11 :  Counter({2: 324, 6: 158, 10: 152, 8: 129, 0: 126, 4: 125, 1: 101, 7: 91, 9: 65, 3: 52, 5: 50})\n",
      "k =  12 :  Counter({1: 305, 6: 148, 11: 125, 8: 123, 7: 115, 3: 110, 9: 99, 2: 96, 10: 89, 0: 75, 4: 52, 5: 36})\n",
      "k =  13 :  Counter({0: 245, 1: 144, 11: 140, 5: 128, 12: 115, 3: 115, 8: 111, 10: 91, 6: 85, 2: 68, 4: 62, 9: 44, 7: 25})\n",
      "k =  14 :  Counter({6: 210, 2: 148, 8: 124, 0: 115, 10: 107, 13: 100, 11: 97, 9: 95, 1: 88, 5: 66, 7: 65, 3: 55, 12: 54, 4: 49})\n",
      "k =  15 :  Counter({6: 215, 1: 162, 10: 124, 4: 120, 0: 97, 2: 88, 14: 87, 11: 83, 8: 82, 3: 77, 5: 76, 12: 64, 9: 42, 13: 36, 7: 20})\n",
      "k =  16 :  Counter({12: 252, 6: 127, 1: 124, 0: 115, 11: 93, 5: 92, 7: 78, 10: 73, 9: 72, 2: 68, 3: 62, 14: 57, 8: 49, 15: 42, 13: 37, 4: 32})\n",
      "k =  17 :  Counter({5: 184, 1: 130, 9: 120, 10: 111, 8: 99, 16: 98, 6: 98, 4: 81, 11: 80, 12: 60, 7: 57, 2: 56, 0: 54, 13: 52, 3: 37, 15: 32, 14: 24})\n",
      "k =  18 :  Counter({17: 199, 0: 137, 10: 112, 15: 111, 16: 98, 3: 86, 14: 75, 11: 70, 8: 70, 1: 69, 9: 59, 4: 54, 13: 54, 2: 44, 7: 42, 5: 38, 6: 28, 12: 27})\n",
      "k =  19 :  Counter({6: 262, 8: 105, 1: 98, 5: 97, 10: 84, 13: 83, 16: 82, 7: 81, 3: 78, 17: 74, 2: 54, 4: 54, 14: 53, 11: 51, 18: 37, 0: 28, 12: 22, 15: 18, 9: 12})\n",
      "k =  20 :  Counter({3: 170, 15: 131, 8: 110, 9: 109, 5: 94, 7: 85, 14: 79, 16: 76, 1: 75, 19: 69, 10: 64, 11: 60, 12: 54, 2: 50, 4: 43, 18: 34, 6: 33, 17: 16, 0: 11, 13: 10})\n"
     ]
    },
    {
     "data": {
      "image/png": "[encoded data removed]",
      "text/plain": [
       "<matplotlib.figure.Figure at 0x1d0b707d898>"
      ]
     },
     "metadata": {},
     "output_type": "display_data"
    }
   ],
   "source": [
    "from sklearn.decomposition import PCA\n",
    "X = articlesScience\n",
    "pca = PCA(n_components=5)\n",
    "pca.fit(X)\n",
    "F = pca.transform(X)\n",
    "X = F\n",
    "distortions = []\n",
    "for i in range(1,21):\n",
    "    kmeans = KMeans(n_clusters=i,max_iter=10, n_init=10, init=\"k-means++\").fit(X)\n",
    "    centroids = kmeans.cluster_centers_\n",
    "    print(\"k = \", i,\": \", Counter(kmeans.labels_))\n",
    "    distortions.append(sum(np.min(cdist(X, centroids, 'euclidean'), axis=1)) / X.shape[0])\n",
    " \n",
    "#Plot the elbow\n",
    "plt.plot(range(1,21), distortions, 'bx-')\n",
    "plt.xlabel('k')\n",
    "plt.ylabel('Distortion')\n",
    "plt.title('The Elbow Method showing the optimal k')\n",
    "plt.show()\n"
   ]
  },
  {
   "cell_type": "markdown",
   "metadata": {},
   "source": [
    "## a. Get the top 10 documents from k clusters "
   ]
  },
  {
   "cell_type": "code",
   "execution_count": 19,
   "metadata": {},
   "outputs": [
    {
     "name": "stdout",
     "output_type": "stream",
     "text": [
      "Cluster  0 :\n",
      "                                                     0\n",
      "379                      Unraveling a Membrane Protein\n",
      "39   Toward the End of <latex>$PuO{_2}'s$</latex> S...\n",
      "381  Biologists and Engineers Create a New Generati...\n",
      "212                   Stem Cells in Epithelial Tissues\n",
      "168  Requirement for DARPP-32 in Progesterone-Facil...\n",
      "228  Regulation of Cell Fate Decision of Undifferen...\n",
      "361    On the Presence of Liquid in Earth's Inner Core\n",
      "206                         The Business of Stem Cells\n",
      "45   Rutile-Bearing Refractory Eclogites: Missing L...\n",
      "406                                  Who's Got Rhythm?\n",
      "Cluster  1 :\n",
      "                                                     0\n",
      "226  Parental Care and Clutch Sizes in North and So...\n",
      "245  A Global View of Martian Surface Compositions ...\n",
      "198  Getting a More Precise Grip on the Physical World\n",
      "217  An Oral Vaccine against NMDAR1 with Efficacy i...\n",
      "0                         Archaeology in the Holy Land\n",
      "43   Cenozoic Deep-Sea Temperatures and Global Ice ...\n",
      "61                      Reaping the Plant Gene Harvest\n",
      "60   Regulation of JNK by Src during Drosophila Dev...\n",
      "59   Requirement of CD9 on the Egg Plasma Membrane ...\n",
      "331            A Drosophila Complementary DNA Resource\n",
      "Cluster  2 :\n",
      "                                                     0\n",
      "282                   Seeing a World in Grains of Sand\n",
      "275  DNA Damage-Induced Activation of p53 by the Ch...\n",
      "151                 The Problematic Venture Capitalist\n",
      "363  Bicoid-Independent Formation of Thoracic Segme...\n",
      "279  Genetic Suppression of Polyglutamine Toxicity ...\n",
      "215  Translating Stem and Progenitor Cell Biology t...\n",
      "112  Voltage- and Tension-Dependent Lipid Mobility ...\n",
      "198  Getting a More Precise Grip on the Physical World\n",
      "285  Corrections and Clarifications: Fermat's Last ...\n",
      "292  Structural Genomics Offers High-Speed Look at ...\n"
     ]
    }
   ],
   "source": [
    "X = articlesScience\n",
    "kmeans = KMeans(n_clusters=3,max_iter=100,n_init=10, init=\"k-means++\").fit(X)\n",
    "labels = kmeans.labels_\n",
    "centroids = kmeans.cluster_centers_\n",
    "for j in range(0,3):\n",
    "    indexofK = np.where(labels == j)\n",
    "    X_new = kmeans.transform(X[indexofK])[:,j]\n",
    "    ind = np.argsort(X_new)[:10]\n",
    "    print(\"Cluster \",j,\":\")\n",
    "    print(titles.iloc[ind])"
   ]
  },
  {
   "cell_type": "markdown",
   "metadata": {
    "collapsed": true
   },
   "source": [
    "## b. Cluster with different values of k for words without PCA"
   ]
  },
  {
   "cell_type": "code",
   "execution_count": 20,
   "metadata": {},
   "outputs": [
    {
     "name": "stdout",
     "output_type": "stream",
     "text": [
      "k =  1 :  Counter({0: 5476})\n",
      "k =  2 :  Counter({1: 4883, 0: 593})\n",
      "k =  3 :  Counter({2: 4356, 1: 691, 0: 429})\n",
      "k =  4 :  Counter({3: 3883, 1: 617, 2: 557, 0: 419})\n",
      "k =  5 :  Counter({0: 3548, 1: 763, 2: 557, 4: 321, 3: 287})\n",
      "k =  6 :  Counter({5: 3426, 0: 637, 4: 629, 1: 409, 2: 374, 3: 1})\n",
      "k =  7 :  Counter({6: 3445, 0: 537, 1: 509, 5: 482, 3: 295, 4: 207, 2: 1})\n",
      "k =  8 :  Counter({0: 2897, 7: 1108, 6: 575, 1: 501, 5: 222, 4: 143, 3: 18, 2: 12})\n",
      "k =  9 :  Counter({0: 2780, 3: 724, 5: 703, 7: 663, 2: 286, 1: 163, 6: 144, 8: 12, 4: 1})\n",
      "k =  10 :  Counter({1: 3360, 5: 578, 4: 554, 0: 434, 2: 257, 7: 196, 6: 82, 8: 12, 9: 2, 3: 1})\n",
      "k =  11 :  Counter({7: 2329, 9: 810, 10: 706, 3: 544, 2: 330, 1: 245, 5: 234, 4: 165, 6: 111, 0: 1, 8: 1})\n",
      "k =  12 :  Counter({10: 2551, 6: 855, 3: 675, 7: 414, 1: 407, 2: 364, 9: 134, 11: 72, 8: 1, 5: 1, 4: 1, 0: 1})\n",
      "k =  13 :  Counter({11: 3105, 1: 882, 2: 634, 9: 483, 7: 218, 0: 110, 8: 37, 3: 2, 6: 1, 10: 1, 4: 1, 5: 1, 12: 1})\n",
      "k =  14 :  Counter({13: 3383, 2: 608, 9: 491, 3: 431, 11: 328, 8: 122, 4: 76, 0: 15, 1: 11, 10: 5, 5: 2, 6: 2, 7: 1, 12: 1})\n",
      "k =  15 :  Counter({12: 2815, 9: 455, 1: 436, 14: 421, 6: 392, 3: 356, 0: 153, 11: 143, 7: 129, 8: 111, 4: 54, 2: 5, 10: 4, 5: 1, 13: 1})\n",
      "k =  16 :  Counter({3: 2403, 14: 1106, 1: 762, 0: 423, 13: 384, 8: 142, 6: 78, 4: 75, 2: 47, 7: 42, 5: 5, 9: 4, 15: 2, 11: 1, 12: 1, 10: 1})\n",
      "k =  17 :  Counter({6: 3182, 7: 669, 2: 655, 16: 476, 0: 301, 11: 119, 10: 50, 3: 8, 5: 7, 8: 2, 13: 1, 9: 1, 14: 1, 15: 1, 12: 1, 4: 1, 1: 1})\n",
      "k =  18 :  Counter({10: 3116, 11: 808, 0: 553, 2: 483, 5: 246, 4: 112, 9: 106, 3: 13, 1: 12, 15: 9, 8: 9, 17: 3, 12: 1, 16: 1, 13: 1, 14: 1, 6: 1, 7: 1})\n",
      "k =  19 :  Counter({16: 3323, 2: 621, 8: 485, 7: 466, 14: 328, 15: 86, 3: 55, 5: 53, 6: 19, 0: 12, 13: 6, 1: 6, 17: 5, 10: 3, 12: 2, 4: 2, 9: 2, 11: 1, 18: 1})\n",
      "k =  20 :  Counter({7: 2554, 8: 570, 19: 562, 4: 402, 15: 311, 3: 281, 18: 256, 9: 118, 5: 105, 2: 101, 0: 88, 6: 79, 11: 27, 1: 12, 12: 5, 16: 1, 14: 1, 10: 1, 17: 1, 13: 1})\n"
     ]
    },
    {
     "data": {
      "image/png": "[encoded data removed]",
      "text/plain": [
       "<matplotlib.figure.Figure at 0x1d0b6d71b70>"
      ]
     },
     "metadata": {},
     "output_type": "display_data"
    }
   ],
   "source": [
    "X = wordDoc\n",
    "distortions = []\n",
    "for i in range(1,21):\n",
    "    kmeans = KMeans(n_clusters=i,max_iter=10, n_init=10, init=\"k-means++\").fit(X)\n",
    "    centroids = kmeans.cluster_centers_\n",
    "    print(\"k = \", i,\": \", Counter(kmeans.labels_))\n",
    "    distortions.append(sum(np.min(cdist(X, centroids, 'euclidean'), axis=1)) / X.shape[0])\n",
    " \n",
    "#Plot the elbow\n",
    "plt.plot(range(1,21), distortions, 'bx-')\n",
    "plt.xlabel('k')\n",
    "plt.ylabel('Distortion')\n",
    "plt.title('The Elbow Method showing the optimal k')\n",
    "plt.show()"
   ]
  },
  {
   "cell_type": "markdown",
   "metadata": {},
   "source": [
    "## b. Cluster with different values of k for words with PCA"
   ]
  },
  {
   "cell_type": "code",
   "execution_count": 21,
   "metadata": {},
   "outputs": [
    {
     "name": "stdout",
     "output_type": "stream",
     "text": [
      "k =  1 :  Counter({0: 5476})\n",
      "k =  2 :  Counter({1: 4798, 0: 678})\n",
      "k =  3 :  Counter({1: 4294, 2: 617, 0: 565})\n",
      "k =  4 :  Counter({0: 3773, 1: 651, 2: 583, 3: 469})\n",
      "k =  5 :  Counter({3: 3106, 0: 1022, 2: 569, 1: 563, 4: 216})\n",
      "k =  6 :  Counter({1: 2890, 0: 987, 5: 693, 4: 534, 3: 202, 2: 170})\n",
      "k =  7 :  Counter({2: 2880, 5: 908, 1: 544, 6: 507, 4: 315, 0: 163, 3: 159})\n",
      "k =  8 :  Counter({1: 2825, 0: 701, 3: 537, 2: 464, 6: 390, 4: 278, 7: 151, 5: 130})\n",
      "k =  9 :  Counter({4: 2429, 5: 779, 0: 739, 1: 489, 7: 341, 8: 248, 3: 181, 6: 142, 2: 128})\n",
      "k =  10 :  Counter({0: 2224, 3: 712, 1: 672, 2: 465, 6: 395, 8: 391, 7: 180, 5: 172, 9: 153, 4: 112})\n",
      "k =  11 :  Counter({0: 2250, 5: 706, 10: 610, 1: 428, 8: 405, 4: 381, 2: 198, 6: 156, 7: 135, 3: 110, 9: 97})\n",
      "k =  12 :  Counter({1: 1930, 0: 922, 6: 671, 11: 639, 9: 256, 8: 231, 2: 229, 3: 213, 4: 122, 5: 106, 10: 80, 7: 77})\n",
      "k =  13 :  Counter({2: 2029, 3: 659, 5: 633, 1: 524, 4: 446, 7: 346, 6: 185, 10: 151, 8: 126, 0: 110, 9: 109, 12: 81, 11: 77})\n",
      "k =  14 :  Counter({8: 1699, 2: 724, 0: 676, 10: 629, 6: 378, 1: 336, 9: 223, 13: 173, 11: 152, 5: 127, 12: 124, 4: 104, 3: 69, 7: 62})\n",
      "k =  15 :  Counter({11: 1626, 6: 744, 13: 586, 7: 582, 5: 507, 0: 399, 3: 224, 9: 196, 8: 124, 2: 103, 1: 96, 4: 86, 10: 82, 14: 62, 12: 59})\n",
      "k =  16 :  Counter({9: 1466, 6: 775, 0: 718, 10: 557, 13: 379, 12: 344, 15: 259, 1: 246, 5: 158, 4: 141, 3: 109, 14: 91, 8: 73, 7: 71, 2: 53, 11: 36})\n",
      "k =  17 :  Counter({4: 1499, 0: 655, 3: 595, 15: 591, 9: 571, 6: 305, 8: 235, 2: 205, 1: 143, 12: 126, 11: 124, 16: 106, 13: 75, 10: 74, 14: 69, 5: 61, 7: 42})\n",
      "k =  18 :  Counter({15: 1308, 3: 672, 17: 644, 10: 566, 16: 490, 1: 380, 12: 277, 4: 178, 9: 169, 7: 152, 0: 127, 8: 102, 13: 94, 14: 88, 5: 71, 11: 59, 6: 52, 2: 47})\n",
      "k =  19 :  Counter({4: 1367, 13: 603, 18: 585, 11: 564, 17: 495, 0: 395, 14: 234, 3: 214, 6: 184, 1: 177, 12: 132, 16: 95, 7: 82, 2: 80, 5: 75, 9: 67, 10: 62, 8: 54, 15: 11})\n",
      "k =  20 :  Counter({2: 1400, 11: 681, 16: 609, 5: 541, 7: 467, 10: 369, 9: 235, 14: 224, 0: 158, 18: 121, 1: 111, 13: 89, 3: 86, 6: 85, 8: 83, 15: 77, 19: 52, 12: 50, 4: 27, 17: 11})\n"
     ]
    },
    {
     "data": {
      "image/png": "[encoded data removed]",
      "text/plain": [
       "<matplotlib.figure.Figure at 0x1d0b6d71c50>"
      ]
     },
     "metadata": {},
     "output_type": "display_data"
    }
   ],
   "source": [
    "pca = PCA(n_components=5)\n",
    "X = wordDoc\n",
    "pca.fit(X)\n",
    "F = pca.transform(X)\n",
    "X = F\n",
    "distortions = []\n",
    "for i in range(1,21):\n",
    "    kmeans = KMeans(n_clusters=i,max_iter=10, n_init=10, init=\"k-means++\").fit(X)\n",
    "    centroids = kmeans.cluster_centers_\n",
    "    print(\"k = \", i,\": \", Counter(kmeans.labels_))\n",
    "    distortions.append(sum(np.min(cdist(X, centroids, 'euclidean'), axis=1)) / X.shape[0])\n",
    " \n",
    "#Plot the elbow\n",
    "plt.plot(range(1,21), distortions, 'bx-')\n",
    "plt.xlabel('k')\n",
    "plt.ylabel('Distortion')\n",
    "plt.title('The Elbow Method showing the optimal k')\n",
    "plt.show()\n"
   ]
  },
  {
   "cell_type": "markdown",
   "metadata": {},
   "source": [
    "## b. Get the top 10 words from each of the k clusters"
   ]
  },
  {
   "cell_type": "code",
   "execution_count": 22,
   "metadata": {},
   "outputs": [
    {
     "name": "stdout",
     "output_type": "stream",
     "text": [
      "Cluster  0 :\n",
      "                0\n",
      "4179      promise\n",
      "4136         aged\n",
      "4268     peptidyl\n",
      "3852  supernatant\n",
      "4311   phenotypic\n",
      "3832     episodes\n",
      "4169       season\n",
      "4118       easier\n",
      "3392    promising\n",
      "2271  progression\n",
      "Cluster  1 :\n",
      "             0\n",
      "4          end\n",
      "597   medicine\n",
      "513   assembly\n",
      "606   location\n",
      "594      third\n",
      "590      laser\n",
      "558    spatial\n",
      "560  substrate\n",
      "601   boundary\n",
      "522     simple\n",
      "Cluster  2 :\n",
      "              0\n",
      "528      humans\n",
      "503  particular\n",
      "511     signals\n",
      "533   reduction\n",
      "530      amount\n",
      "523        iron\n",
      "532      tested\n",
      "534       blood\n",
      "529       acids\n",
      "513    assembly\n"
     ]
    }
   ],
   "source": [
    "X = wordDoc\n",
    "kmeans = KMeans(n_clusters=3,max_iter=100,n_init=10, init=\"k-means++\").fit(X)\n",
    "labels = kmeans.labels_\n",
    "centroids = kmeans.cluster_centers_\n",
    "\n",
    "for j in range(0,3):\n",
    "    indexofK = np.where(labels == j)\n",
    "    X_new = kmeans.transform(X[indexofK])[:,j]\n",
    "    ind = np.argsort(X_new)[:10]\n",
    "    print(\"Cluster \",j,\":\")\n",
    "    print(vocabulary.iloc[ind])"
   ]
  },
  {
   "cell_type": "code",
   "execution_count": 23,
   "metadata": {},
   "outputs": [
    {
     "name": "stdout",
     "output_type": "stream",
     "text": [
      "               0\n",
      "418     isolated\n",
      "421  replication\n",
      "406     critical\n",
      "420          far\n",
      "383        metal\n",
      "407         view\n",
      "404        short\n",
      "419    developed\n",
      "373     approach\n",
      "411     analyzed\n",
      "             0\n",
      "3593  teaching\n",
      "3327   radical\n",
      "3576     scans\n",
      "3634       mix\n",
      "3307    attack\n",
      "3758     signs\n",
      "2897    threat\n",
      "1868     going\n",
      "3762   fitting\n",
      "3624  rotating\n",
      "              0\n",
      "3           two\n",
      "588       white\n",
      "575     remains\n",
      "555  antibodies\n",
      "544   effective\n",
      "546       error\n",
      "583       force\n",
      "505  mechanisms\n",
      "510     primary\n",
      "587     product\n",
      "               0\n",
      "661          co2\n",
      "615        depth\n",
      "671          tip\n",
      "618     provides\n",
      "643    selection\n",
      "613      members\n",
      "658  observation\n",
      "602        rapid\n",
      "644      history\n",
      "607        actin\n"
     ]
    }
   ],
   "source": [
    "X = wordDoc\n",
    "kmeans = KMeans(n_clusters=4,max_iter=100,n_init=10, init=\"k-means++\").fit(X)\n",
    "labels = kmeans.labels_\n",
    "centroids = kmeans.cluster_centers_\n",
    "\n",
    "for j in range(0,4):\n",
    "    indexofK = np.where(labels == j)\n",
    "    X_new = kmeans.transform(X[indexofK])[:,j]\n",
    "    ind = np.argsort(X_new)[:10]\n",
    "    print(vocabulary.iloc[ind])"
   ]
  },
  {
   "cell_type": "code",
   "execution_count": null,
   "metadata": {
    "collapsed": true
   },
   "outputs": [],
   "source": []
  }
 ],
 "metadata": {
  "kernelspec": {
   "display_name": "Python 3",
   "language": "python",
   "name": "python3"
  },
  "language_info": {
   "codemirror_mode": {
    "name": "ipython",
    "version": 3
   },
   "file_extension": ".py",
   "mimetype": "text/x-python",
   "name": "python",
   "nbconvert_exporter": "python",
   "pygments_lexer": "ipython3",
   "version": "3.6.1"
  }
 },
 "nbformat": 4,
 "nbformat_minor": 2
}
